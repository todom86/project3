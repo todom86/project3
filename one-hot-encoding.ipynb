{
 "cells": [
  {
   "cell_type": "code",
   "execution_count": null,
   "id": "photographic-ultimate",
   "metadata": {},
   "outputs": [],
   "source": [
    "import numpy as np\n",
    "from pandas import read_csv\n",
    "from sklearn.model_selection import train_test_split\n",
    "from sklearn.preprocessing import LabelEncoder\n",
    "from sklearn.preprocessing import OneHotEncoder\n",
    "from sklearn.preprocessing import StandardScaler\n",
    "from keras.models import Sequential\n",
    "from keras.layers import Dense"
   ]
  },
  {
   "cell_type": "code",
   "execution_count": null,
   "id": "contemporary-stream",
   "metadata": {},
   "outputs": [],
   "source": [
    "def load_dataset(filename):\n",
    "    data = read_csv(filename, header=0)\n",
    "    dataset = data.values\n",
    "    X = dataset[:, :-1]\n",
    "    y = dataset[:,-1]\n",
    "    X = X.astype(str)\n",
    "    y = y.reshape(-1, 1)\n",
    "    return X, y"
   ]
  },
  {
   "cell_type": "code",
   "execution_count": null,
   "id": "persistent-uganda",
   "metadata": {},
   "outputs": [],
   "source": [
    "def prepare_inputs(X):\n",
    "    ohe = OneHotEncoder()\n",
    "    ohe.fit(X)\n",
    "    X_enc = ohe.transform(X)\n",
    "    return X_enc"
   ]
  },
  {
   "cell_type": "code",
   "execution_count": null,
   "id": "atmospheric-assumption",
   "metadata": {},
   "outputs": [],
   "source": [
    "# def prepare_targets(y):\n",
    "#     le = LabelEncoder()\n",
    "#     le.fit(y)\n",
    "#     y_enc = le.transform(y)\n",
    "#     return y_enc"
   ]
  },
  {
   "cell_type": "code",
   "execution_count": null,
   "id": "maritime-fleet",
   "metadata": {},
   "outputs": [],
   "source": [
    "X, y = load_dataset('shoe-data.csv')"
   ]
  },
  {
   "cell_type": "code",
   "execution_count": null,
   "id": "seeing-argentina",
   "metadata": {},
   "outputs": [],
   "source": [
    "print(X.shape)\n",
    "print(y.shape)"
   ]
  },
  {
   "cell_type": "code",
   "execution_count": null,
   "id": "stuffed-bloom",
   "metadata": {},
   "outputs": [],
   "source": [
    "X_enc = prepare_inputs(X)\n",
    "# y_enc = prepare_targets(y.ravel())\n",
    "y = np.asarray(y).astype(np.float32)\n",
    "X_train, X_test, y_train, y_test = train_test_split(X_enc, y, random_state=42)"
   ]
  },
  {
   "cell_type": "code",
   "execution_count": null,
   "id": "supported-puzzle",
   "metadata": {},
   "outputs": [],
   "source": [
    "X_scaler = StandardScaler(with_mean=False).fit(X_train)\n",
    "X_train_scaled = X_scaler.transform(X_train)\n",
    "X_test_scaled = X_scaler.transform(X_test)"
   ]
  },
  {
   "cell_type": "code",
   "execution_count": null,
   "id": "superb-integration",
   "metadata": {},
   "outputs": [],
   "source": [
    "# for label, original_class in zip(y_enc, y):\n",
    "#     print('Original Class: ' + str(original_class))\n",
    "#     print('Encoded Label: ' + str(label))\n",
    "#     print('-' * 12)"
   ]
  },
  {
   "cell_type": "code",
   "execution_count": null,
   "id": "domestic-heating",
   "metadata": {},
   "outputs": [],
   "source": [
    "model = Sequential()\n",
    "# number_inputs = 4\n",
    "# number_hidden_nodes = 4\n",
    "# number_classes = 6\n",
    "model.add(Dense(10, input_dim=X_train_scaled.shape[1], activation='relu'))\n",
    "model.add(Dense(1, activation='sigmoid'))"
   ]
  },
  {
   "cell_type": "code",
   "execution_count": null,
   "id": "another-anchor",
   "metadata": {},
   "outputs": [],
   "source": [
    "model.summary()"
   ]
  },
  {
   "cell_type": "code",
   "execution_count": null,
   "id": "instrumental-myrtle",
   "metadata": {
    "scrolled": false
   },
   "outputs": [],
   "source": [
    "model.compile(loss='binary_crossentropy', optimizer='adam', metrics=['accuracy'])\n",
    "model.fit(X_train_scaled, y_train, epochs=100, shuffle=True, batch_size=10, verbose=2)"
   ]
  },
  {
   "cell_type": "code",
   "execution_count": null,
   "id": "canadian-needle",
   "metadata": {},
   "outputs": [],
   "source": [
    "loss, accuracy = model.evaluate(X_test_scaled, y_test, verbose=2)\n",
    "print(f\"Loss: {loss}, Accuracy: {accuracy}\")"
   ]
  },
  {
   "cell_type": "code",
   "execution_count": null,
   "id": "powerful-blink",
   "metadata": {},
   "outputs": [],
   "source": []
  }
 ],
 "metadata": {
  "kernelspec": {
   "display_name": "Python [conda env:tensorflow] *",
   "language": "python",
   "name": "conda-env-tensorflow-py"
  },
  "language_info": {
   "codemirror_mode": {
    "name": "ipython",
    "version": 3
   },
   "file_extension": ".py",
   "mimetype": "text/x-python",
   "name": "python",
   "nbconvert_exporter": "python",
   "pygments_lexer": "ipython3",
   "version": "3.7.10"
  }
 },
 "nbformat": 4,
 "nbformat_minor": 5
}
