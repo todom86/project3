{
 "cells": [
  {
   "cell_type": "code",
   "execution_count": 1,
   "metadata": {
    "colab": {
     "base_uri": "https://localhost:8080/"
    },
    "id": "xD4cECqr5eqC",
    "outputId": "81ee5329-e328-452d-8e70-012e64051c43"
   },
   "outputs": [
    {
     "name": "stdout",
     "output_type": "stream",
     "text": [
      "\r",
      "0% [Working]\r",
      "            \r",
      "Ign:1 https://developer.download.nvidia.com/compute/cuda/repos/ubuntu1804/x86_64  InRelease\n",
      "\r",
      "0% [Waiting for headers] [Waiting for headers] [Waiting for headers] [Waiting f\r",
      "                                                                               \r",
      "Get:2 https://cloud.r-project.org/bin/linux/ubuntu bionic-cran40/ InRelease [3,626 B]\n",
      "\r",
      "0% [Waiting for headers] [Waiting for headers] [2 InRelease 0 B/3,626 B 0%] [Wa\r",
      "0% [Waiting for headers] [Waiting for headers] [Waiting for headers] [Waiting f\r",
      "0% [2 InRelease gpgv 3,626 B] [Waiting for headers] [Waiting for headers] [Wait\r",
      "                                                                               \r",
      "Get:3 http://ppa.launchpad.net/c2d4u.team/c2d4u4.0+/ubuntu bionic InRelease [15.9 kB]\n",
      "\r",
      "0% [2 InRelease gpgv 3,626 B] [Waiting for headers] [Waiting for headers] [3 In\r",
      "                                                                               \r",
      "Get:4 http://security.ubuntu.com/ubuntu bionic-security InRelease [88.7 kB]\n",
      "\r",
      "0% [2 InRelease gpgv 3,626 B] [Waiting for headers] [4 InRelease 14.2 kB/88.7 k\r",
      "                                                                               \r",
      "Ign:5 https://developer.download.nvidia.com/compute/machine-learning/repos/ubuntu1804/x86_64  InRelease\n",
      "\r",
      "0% [2 InRelease gpgv 3,626 B] [Waiting for headers] [4 InRelease 14.2 kB/88.7 k\r",
      "                                                                               \r",
      "Hit:6 http://archive.ubuntu.com/ubuntu bionic InRelease\n",
      "\r",
      "0% [2 InRelease gpgv 3,626 B] [Waiting for headers] [4 InRelease 14.2 kB/88.7 k\r",
      "                                                                               \r",
      "Get:7 https://developer.download.nvidia.com/compute/cuda/repos/ubuntu1804/x86_64  Release [697 B]\n",
      "Hit:8 https://developer.download.nvidia.com/compute/machine-learning/repos/ubuntu1804/x86_64  Release\n",
      "Get:9 https://developer.download.nvidia.com/compute/cuda/repos/ubuntu1804/x86_64  Release.gpg [836 B]\n",
      "Get:10 http://archive.ubuntu.com/ubuntu bionic-updates InRelease [88.7 kB]\n",
      "Hit:11 http://ppa.launchpad.net/cran/libgit2/ubuntu bionic InRelease\n",
      "Hit:12 http://ppa.launchpad.net/deadsnakes/ppa/ubuntu bionic InRelease\n",
      "Get:13 http://archive.ubuntu.com/ubuntu bionic-backports InRelease [74.6 kB]\n",
      "Hit:14 http://ppa.launchpad.net/graphics-drivers/ppa/ubuntu bionic InRelease\n",
      "Ign:16 https://developer.download.nvidia.com/compute/cuda/repos/ubuntu1804/x86_64  Packages\n",
      "Get:16 https://developer.download.nvidia.com/compute/cuda/repos/ubuntu1804/x86_64  Packages [577 kB]\n",
      "Get:17 http://ppa.launchpad.net/c2d4u.team/c2d4u4.0+/ubuntu bionic/main Sources [1,745 kB]\n",
      "Get:18 http://security.ubuntu.com/ubuntu bionic-security/universe amd64 Packages [1,396 kB]\n",
      "Get:19 http://archive.ubuntu.com/ubuntu bionic-updates/universe amd64 Packages [2,163 kB]\n",
      "Get:20 http://ppa.launchpad.net/c2d4u.team/c2d4u4.0+/ubuntu bionic/main amd64 Packages [893 kB]\n",
      "Get:21 http://security.ubuntu.com/ubuntu bionic-security/main amd64 Packages [1,964 kB]\n",
      "Get:22 http://archive.ubuntu.com/ubuntu bionic-updates/main amd64 Packages [2,394 kB]\n",
      "Fetched 11.4 MB in 4s (2,985 kB/s)\n",
      "Reading package lists... Done\n"
     ]
    }
   ],
   "source": [
    "import os\n",
    "# Find the latest version of spark 3.0  from http://www-us.apache.org/dist/spark/ and enter as the spark version\n",
    "# For example:\n",
    "# spark_version = 'spark-3.0.1'\n",
    "spark_version = 'spark-3.0.2'\n",
    "os.environ['SPARK_VERSION']=spark_version\n",
    "\n",
    "# Install Spark and Java\n",
    "!apt-get update\n",
    "!apt-get install openjdk-11-jdk-headless -qq > /dev/null\n",
    "!wget -q http://www-us.apache.org/dist/spark/$SPARK_VERSION/$SPARK_VERSION-bin-hadoop2.7.tgz\n",
    "!tar xf $SPARK_VERSION-bin-hadoop2.7.tgz\n",
    "!pip install -q findspark\n",
    "\n",
    "# Set Environment Variables\n",
    "os.environ[\"JAVA_HOME\"] = \"/usr/lib/jvm/java-11-openjdk-amd64\"\n",
    "os.environ[\"SPARK_HOME\"] = f\"/content/{spark_version}-bin-hadoop2.7\"\n",
    "\n",
    "# Start a SparkSession\n",
    "import findspark\n",
    "findspark.init()"
   ]
  },
  {
   "cell_type": "code",
   "execution_count": 38,
   "metadata": {
    "colab": {
     "base_uri": "https://localhost:8080/",
     "height": 72,
     "resources": {
      "http://localhost:8080/nbextensions/google.colab/files.js": {
       "data": "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",
       "headers": [
        [
         "content-type",
         "application/javascript"
        ]
       ],
       "ok": true,
       "status": 200,
       "status_text": ""
      }
     }
    },
    "id": "py1l1rro5kqg",
    "outputId": "20aae901-1e02-472c-9bb4-6dd43c158724"
   },
   "outputs": [
    {
     "data": {
      "text/html": [
       "\n",
       "     <input type=\"file\" id=\"files-ee6c4779-5970-4802-a21e-40e1be30712d\" name=\"files[]\" multiple disabled\n",
       "        style=\"border:none\" />\n",
       "     <output id=\"result-ee6c4779-5970-4802-a21e-40e1be30712d\">\n",
       "      Upload widget is only available when the cell has been executed in the\n",
       "      current browser session. Please rerun this cell to enable.\n",
       "      </output>\n",
       "      <script src=\"/nbextensions/google.colab/files.js\"></script> "
      ],
      "text/plain": [
       "<IPython.core.display.HTML object>"
      ]
     },
     "metadata": {
      "tags": []
     },
     "output_type": "display_data"
    },
    {
     "name": "stdout",
     "output_type": "stream",
     "text": [
      "Saving shoe-data.csv to shoe-data (3).csv\n"
     ]
    }
   ],
   "source": [
    "from google.colab import files\n",
    "uploaded = files.upload()"
   ]
  },
  {
   "cell_type": "code",
   "execution_count": 17,
   "metadata": {
    "id": "3bLA-nsO5y4t"
   },
   "outputs": [],
   "source": [
    "from pyspark.sql import SparkSession\n",
    "spark = SparkSession.builder.appName(\"Hashing\").getOrCreate()"
   ]
  },
  {
   "cell_type": "code",
   "execution_count": 39,
   "metadata": {
    "colab": {
     "base_uri": "https://localhost:8080/"
    },
    "id": "ipSgJI-67Xaq",
    "outputId": "067ea775-1306-4d43-9979-28f4baf6972c"
   },
   "outputs": [
    {
     "name": "stdout",
     "output_type": "stream",
     "text": [
      "+------+---------+--------------------+----------+\n",
      "| brand|   gender|            colorway|priceGroup|\n",
      "+------+---------+--------------------+----------+\n",
      "|  Nike|    child|Black University ...|      <100|\n",
      "|  Nike|      men|    White Game Royal|   100-150|\n",
      "|Jordan|    child|White Tech Grey B...|   150-200|\n",
      "|Jordan|preschool|White Tech Grey B...|   150-200|\n",
      "|Jordan|      men|White Tech Grey B...|   150-200|\n",
      "|Jordan|  toddler|White Tech Grey B...|   150-200|\n",
      "|Jordan|      men|Black White-Light...|   150-200|\n",
      "|Jordan|    women| White Bright Citrus|   150-200|\n",
      "|Jordan|      men|White White-Black...|   150-200|\n",
      "|Jordan|      men|Hyper Royal Light...|   150-200|\n",
      "|Jordan|    women|Sail Rust Pink-Wh...|   150-200|\n",
      "|Jordan|preschool|Varsity Red Black...|      <100|\n",
      "|Jordan|  toddler|Varsity Red Black...|      <100|\n",
      "|Jordan|      men|Varsity Red Black...|   150-200|\n",
      "|Jordan|    child|Anthracite Wolf G...|   100-150|\n",
      "|Jordan|    child|Varsity Red Black...|   100-150|\n",
      "|Jordan|      men|White White-Multi...|   150-200|\n",
      "|Reebok|      men|     White Grey Volt|   100-150|\n",
      "|  Nike|      men|Black White-Amari...|   150-200|\n",
      "|adidas|      men|      Sand Sand Sand|      <100|\n",
      "+------+---------+--------------------+----------+\n",
      "only showing top 20 rows\n",
      "\n"
     ]
    }
   ],
   "source": [
    "df = spark.read.csv('shoe-data (3).csv', header=True)\n",
    "df.show()"
   ]
  },
  {
   "cell_type": "code",
   "execution_count": 40,
   "metadata": {
    "id": "GysWQsAL7dTE"
   },
   "outputs": [],
   "source": [
    "from pyspark.ml.feature import HashingTF, IDF, Tokenizer, StopWordsRemover, StringIndexer"
   ]
  },
  {
   "cell_type": "code",
   "execution_count": 41,
   "metadata": {
    "colab": {
     "base_uri": "https://localhost:8080/"
    },
    "id": "JlE_fzWf8hE2",
    "outputId": "4e17149b-2268-4c40-bb5c-b0fcb6c10162"
   },
   "outputs": [
    {
     "name": "stdout",
     "output_type": "stream",
     "text": [
      "+------+---------+--------------------+----------+--------------------+\n",
      "| brand|   gender|            colorway|priceGroup|               words|\n",
      "+------+---------+--------------------+----------+--------------------+\n",
      "|  Nike|    child|Black University ...|      <100|[black, universit...|\n",
      "|  Nike|      men|    White Game Royal|   100-150|[white, game, royal]|\n",
      "|Jordan|    child|White Tech Grey B...|   150-200|[white, tech, gre...|\n",
      "|Jordan|preschool|White Tech Grey B...|   150-200|[white, tech, gre...|\n",
      "|Jordan|      men|White Tech Grey B...|   150-200|[white, tech, gre...|\n",
      "|Jordan|  toddler|White Tech Grey B...|   150-200|[white, tech, gre...|\n",
      "|Jordan|      men|Black White-Light...|   150-200|[black, white-lig...|\n",
      "|Jordan|    women| White Bright Citrus|   150-200|[white, bright, c...|\n",
      "|Jordan|      men|White White-Black...|   150-200|[white, white-bla...|\n",
      "|Jordan|      men|Hyper Royal Light...|   150-200|[hyper, royal, li...|\n",
      "|Jordan|    women|Sail Rust Pink-Wh...|   150-200|[sail, rust, pink...|\n",
      "|Jordan|preschool|Varsity Red Black...|      <100|[varsity, red, bl...|\n",
      "|Jordan|  toddler|Varsity Red Black...|      <100|[varsity, red, bl...|\n",
      "|Jordan|      men|Varsity Red Black...|   150-200|[varsity, red, bl...|\n",
      "|Jordan|    child|Anthracite Wolf G...|   100-150|[anthracite, wolf...|\n",
      "|Jordan|    child|Varsity Red Black...|   100-150|[varsity, red, bl...|\n",
      "|Jordan|      men|White White-Multi...|   150-200|[white, white-mul...|\n",
      "|Reebok|      men|     White Grey Volt|   100-150| [white, grey, volt]|\n",
      "|  Nike|      men|Black White-Amari...|   150-200|[black, white-ama...|\n",
      "|adidas|      men|      Sand Sand Sand|      <100|  [sand, sand, sand]|\n",
      "+------+---------+--------------------+----------+--------------------+\n",
      "only showing top 20 rows\n",
      "\n"
     ]
    }
   ],
   "source": [
    "tokened = Tokenizer(inputCol=\"colorway\", outputCol=\"words\")\n",
    "tokened_transformed = tokened.transform(df)\n",
    "tokened_transformed.show()"
   ]
  },
  {
   "cell_type": "code",
   "execution_count": 42,
   "metadata": {
    "colab": {
     "base_uri": "https://localhost:8080/"
    },
    "id": "JUe49zY88r3V",
    "outputId": "f56ab64b-0292-4f2f-e3f5-bc91b2e2ef56"
   },
   "outputs": [
    {
     "name": "stdout",
     "output_type": "stream",
     "text": [
      "+------+---------+--------------------+----------+--------------------+--------------------+\n",
      "| brand|   gender|            colorway|priceGroup|               words|        hashedValues|\n",
      "+------+---------+--------------------+----------+--------------------+--------------------+\n",
      "|  Nike|    child|Black University ...|      <100|[black, universit...|(262144,[10564,61...|\n",
      "|  Nike|      men|    White Game Royal|   100-150|[white, game, royal]|(262144,[17821,75...|\n",
      "|Jordan|    child|White Tech Grey B...|   150-200|[white, tech, gre...|(262144,[10564,75...|\n",
      "|Jordan|preschool|White Tech Grey B...|   150-200|[white, tech, gre...|(262144,[10564,75...|\n",
      "|Jordan|      men|White Tech Grey B...|   150-200|[white, tech, gre...|(262144,[10564,75...|\n",
      "|Jordan|  toddler|White Tech Grey B...|   150-200|[white, tech, gre...|(262144,[10564,75...|\n",
      "|Jordan|      men|Black White-Light...|   150-200|[black, white-lig...|(262144,[78526,78...|\n",
      "|Jordan|    women| White Bright Citrus|   150-200|[white, bright, c...|(262144,[75571,16...|\n",
      "|Jordan|      men|White White-Black...|   150-200|[white, white-bla...|(262144,[75571,10...|\n",
      "|Jordan|      men|Hyper Royal Light...|   150-200|[hyper, royal, li...|(262144,[17821,22...|\n",
      "|Jordan|    women|Sail Rust Pink-Wh...|   150-200|[sail, rust, pink...|(262144,[23424,58...|\n",
      "|Jordan|preschool|Varsity Red Black...|      <100|[varsity, red, bl...|(262144,[10564,78...|\n",
      "|Jordan|  toddler|Varsity Red Black...|      <100|[varsity, red, bl...|(262144,[10564,78...|\n",
      "|Jordan|      men|Varsity Red Black...|   150-200|[varsity, red, bl...|(262144,[10564,78...|\n",
      "|Jordan|    child|Anthracite Wolf G...|   100-150|[anthracite, wolf...|(262144,[110937,1...|\n",
      "|Jordan|    child|Varsity Red Black...|   100-150|[varsity, red, bl...|(262144,[10564,78...|\n",
      "|Jordan|      men|White White-Multi...|   150-200|[white, white-mul...|(262144,[75571,84...|\n",
      "|Reebok|      men|     White Grey Volt|   100-150| [white, grey, volt]|(262144,[47758,75...|\n",
      "|  Nike|      men|Black White-Amari...|   150-200|[black, white-ama...|(262144,[8336,154...|\n",
      "|adidas|      men|      Sand Sand Sand|      <100|  [sand, sand, sand]|(262144,[78955],[...|\n",
      "+------+---------+--------------------+----------+--------------------+--------------------+\n",
      "only showing top 20 rows\n",
      "\n"
     ]
    }
   ],
   "source": [
    "hashing = HashingTF(inputCol='words', outputCol='hashedValues')\n",
    "hashed_df = hashing.transform(tokened_transformed)\n",
    "hashed_df.show()"
   ]
  },
  {
   "cell_type": "code",
   "execution_count": 43,
   "metadata": {
    "id": "a0mnpNDMBGj2"
   },
   "outputs": [],
   "source": [
    "idf = IDF(inputCol='hashedValues', outputCol=\"features\")\n",
    "idfModel = idf.fit(hashed_df)\n",
    "rescaledData = idfModel.transform(hashed_df)"
   ]
  },
  {
   "cell_type": "code",
   "execution_count": 44,
   "metadata": {
    "colab": {
     "base_uri": "https://localhost:8080/"
    },
    "id": "40Ur1Ap1BvbF",
    "outputId": "f2b11f3a-deed-41d0-d1e4-38fc81a077ea"
   },
   "outputs": [
    {
     "name": "stdout",
     "output_type": "stream",
     "text": [
      "+----------------------------------------+----------------------------------------------------------------------------------------------------------------------------------------------------------------+\n",
      "|words                                   |features                                                                                                                                                        |\n",
      "+----------------------------------------+----------------------------------------------------------------------------------------------------------------------------------------------------------------+\n",
      "|[black, university, red, white]         |(262144,[10564,61581,75571,154828],[2.29675032111499,3.5700296732165224,0.9975671324042024,1.1271712596720214])                                                 |\n",
      "|[white, game, royal]                    |(262144,[17821,75571,138895],[3.754706943702936,0.9975671324042024,5.103960033142478])                                                                          |\n",
      "|[white, tech, grey, black, fire, red]   |(262144,[10564,75571,78551,91799,154828,195155],[2.29675032111499,0.9975671324042024,2.2632879437985856,5.527774279918838,1.1271712596720214,5.447731572245302])|\n",
      "|[white, tech, grey, black, fire, red]   |(262144,[10564,75571,78551,91799,154828,195155],[2.29675032111499,0.9975671324042024,2.2632879437985856,5.527774279918838,1.1271712596720214,5.447731572245302])|\n",
      "|[white, tech, grey, black, fire, red]   |(262144,[10564,75571,78551,91799,154828,195155],[2.29675032111499,0.9975671324042024,2.2632879437985856,5.527774279918838,1.1271712596720214,5.447731572245302])|\n",
      "|[white, tech, grey, black, fire, red]   |(262144,[10564,75571,78551,91799,154828,195155],[2.29675032111499,0.9975671324042024,2.2632879437985856,5.527774279918838,1.1271712596720214,5.447731572245302])|\n",
      "|[black, white-light, smoke, grey]       |(262144,[78526,78551,154828,177724],[6.914068641038729,2.2632879437985856,1.1271712596720214,4.466902319233576])                                                |\n",
      "|[white, bright, citrus]                 |(262144,[75571,162976,188581],[0.9975671324042024,4.259262954455331,7.724998857255058])                                                                         |\n",
      "|[white, white-black-legend, blue]       |(262144,[75571,103048,194162],[0.9975671324042024,2.4354699967401006,8.418146037815003])                                                                        |\n",
      "|[hyper, royal, light, smoke, grey-white]|(262144,[17821,22962,109208,173172,177724],[3.754706943702936,4.213453418424037,3.4243178620351284,5.199270212946803,4.466902319233576])                        |\n",
      "|[sail, rust, pink-white-crimson]        |(262144,[23424,58226,165865],[8.418146037815003,4.383905399662608,7.501855305940849])                                                                           |\n",
      "|[varsity, red, black-white]             |(262144,[10564,78277,135105],[2.29675032111499,4.936905948479311,4.100657924278693])                                                                            |\n",
      "|[varsity, red, black-white]             |(262144,[10564,78277,135105],[2.29675032111499,4.936905948479311,4.100657924278693])                                                                            |\n",
      "|[varsity, red, black-white]             |(262144,[10564,78277,135105],[2.29675032111499,4.936905948479311,4.100657924278693])                                                                            |\n",
      "|[anthracite, wolf, grey-clear-black]    |(262144,[110937,152720,211527],[8.012680929706839,5.779088708199745,4.656945922121441])                                                                         |\n",
      "|[varsity, red, black-white]             |(262144,[10564,78277,135105],[2.29675032111499,4.936905948479311,4.100657924278693])                                                                            |\n",
      "|[white, white-multi-color]              |(262144,[75571,84376],[0.9975671324042024,6.546343860913412])                                                                                                   |\n",
      "|[white, grey, volt]                     |(262144,[47758,75571,78551],[4.891785513198842,0.9975671324042024,2.2632879437985856])                                                                          |\n",
      "|[black, white-amarillo-court, purple]   |(262144,[8336,154828,160907],[8.418146037815003,1.1271712596720214,3.6474614133493386])                                                                         |\n",
      "|[sand, sand, sand]                      |(262144,[78955],[16.343194716735905])                                                                                                                           |\n",
      "+----------------------------------------+----------------------------------------------------------------------------------------------------------------------------------------------------------------+\n",
      "only showing top 20 rows\n",
      "\n"
     ]
    }
   ],
   "source": [
    "rescaledData.select('words',\"features\").show(truncate=False)"
   ]
  },
  {
   "cell_type": "code",
   "execution_count": 45,
   "metadata": {
    "colab": {
     "base_uri": "https://localhost:8080/"
    },
    "id": "7wig-f5ACpQx",
    "outputId": "ef51eb30-4252-4172-9944-03b499c1243e"
   },
   "outputs": [
    {
     "name": "stdout",
     "output_type": "stream",
     "text": [
      "+------+---------+--------------------+----------+------+\n",
      "| brand|   gender|            colorway|priceGroup|length|\n",
      "+------+---------+--------------------+----------+------+\n",
      "|  Nike|    child|Black University ...|      <100|    26|\n",
      "|  Nike|      men|    White Game Royal|   100-150|    16|\n",
      "|Jordan|    child|White Tech Grey B...|   150-200|    30|\n",
      "|Jordan|preschool|White Tech Grey B...|   150-200|    30|\n",
      "|Jordan|      men|White Tech Grey B...|   150-200|    30|\n",
      "|Jordan|  toddler|White Tech Grey B...|   150-200|    30|\n",
      "|Jordan|      men|Black White-Light...|   150-200|    28|\n",
      "|Jordan|    women| White Bright Citrus|   150-200|    19|\n",
      "|Jordan|      men|White White-Black...|   150-200|    29|\n",
      "|Jordan|      men|Hyper Royal Light...|   150-200|    34|\n",
      "|Jordan|    women|Sail Rust Pink-Wh...|   150-200|    28|\n",
      "|Jordan|preschool|Varsity Red Black...|      <100|    23|\n",
      "|Jordan|  toddler|Varsity Red Black...|      <100|    23|\n",
      "|Jordan|      men|Varsity Red Black...|   150-200|    23|\n",
      "|Jordan|    child|Anthracite Wolf G...|   100-150|    32|\n",
      "|Jordan|    child|Varsity Red Black...|   100-150|    23|\n",
      "|Jordan|      men|White White-Multi...|   150-200|    23|\n",
      "|Reebok|      men|     White Grey Volt|   100-150|    15|\n",
      "|  Nike|      men|Black White-Amari...|   150-200|    33|\n",
      "|adidas|      men|      Sand Sand Sand|      <100|    14|\n",
      "+------+---------+--------------------+----------+------+\n",
      "only showing top 20 rows\n",
      "\n"
     ]
    }
   ],
   "source": [
    "from pyspark.sql.functions import length\n",
    "data_df = df.withColumn('length', length(df['colorway']))\n",
    "data_df.show()"
   ]
  },
  {
   "cell_type": "code",
   "execution_count": 46,
   "metadata": {
    "id": "tw1BjynnB70-"
   },
   "outputs": [],
   "source": [
    "priceGroup_to_num = StringIndexer(inputCol='priceGroup',outputCol='label')\n",
    "tokenizer = Tokenizer(inputCol=\"colorway\", outputCol=\"token_text\")\n",
    "hashingTF = HashingTF(inputCol=\"token_text\", outputCol='hash_token')\n",
    "idf = IDF(inputCol='hash_token', outputCol='idf_token')"
   ]
  },
  {
   "cell_type": "code",
   "execution_count": 47,
   "metadata": {
    "id": "Ksb4qdmUDI6n"
   },
   "outputs": [],
   "source": [
    "from pyspark.ml.feature import VectorAssembler\n",
    "from pyspark.ml.linalg import Vector\n",
    "\n",
    "clean_up = VectorAssembler(inputCols=['idf_token', 'length'], outputCol='features')"
   ]
  },
  {
   "cell_type": "code",
   "execution_count": 48,
   "metadata": {
    "id": "uD3Kr7_FDvN7"
   },
   "outputs": [],
   "source": [
    "from pyspark.ml import Pipeline\n",
    "data_prep_pipeline = Pipeline(stages=[priceGroup_to_num, tokenizer, hashingTF, idf, clean_up])"
   ]
  },
  {
   "cell_type": "code",
   "execution_count": 49,
   "metadata": {
    "id": "nXYcjMVhD05I"
   },
   "outputs": [],
   "source": [
    "cleaner = data_prep_pipeline.fit(data_df)\n",
    "cleaned = cleaner.transform(data_df)"
   ]
  },
  {
   "cell_type": "code",
   "execution_count": 51,
   "metadata": {
    "colab": {
     "base_uri": "https://localhost:8080/"
    },
    "id": "jfATaZHfD9B3",
    "outputId": "c817d0dc-786a-4cfc-f700-408d20d3aed5"
   },
   "outputs": [
    {
     "name": "stdout",
     "output_type": "stream",
     "text": [
      "+-----+--------------------+\n",
      "|label|            features|\n",
      "+-----+--------------------+\n",
      "|  1.0|(262145,[10564,61...|\n",
      "|  0.0|(262145,[17821,75...|\n",
      "|  2.0|(262145,[10564,75...|\n",
      "|  2.0|(262145,[10564,75...|\n",
      "|  2.0|(262145,[10564,75...|\n",
      "|  2.0|(262145,[10564,75...|\n",
      "|  2.0|(262145,[78526,78...|\n",
      "|  2.0|(262145,[75571,16...|\n",
      "|  2.0|(262145,[75571,10...|\n",
      "|  2.0|(262145,[17821,22...|\n",
      "|  2.0|(262145,[23424,58...|\n",
      "|  1.0|(262145,[10564,78...|\n",
      "|  1.0|(262145,[10564,78...|\n",
      "|  2.0|(262145,[10564,78...|\n",
      "|  0.0|(262145,[110937,1...|\n",
      "|  0.0|(262145,[10564,78...|\n",
      "|  2.0|(262145,[75571,84...|\n",
      "|  0.0|(262145,[47758,75...|\n",
      "|  2.0|(262145,[8336,154...|\n",
      "|  1.0|(262145,[78955,26...|\n",
      "+-----+--------------------+\n",
      "only showing top 20 rows\n",
      "\n"
     ]
    }
   ],
   "source": [
    "cleaned.select(['label', 'features']).show()"
   ]
  },
  {
   "cell_type": "code",
   "execution_count": 52,
   "metadata": {
    "id": "scUceqnmEB14"
   },
   "outputs": [],
   "source": [
    "from pyspark.ml.classification import NaiveBayes\n",
    "# Break data down into a training set and a testing set\n",
    "training, testing = cleaned.randomSplit([0.7, 0.3])\n",
    "\n",
    "# Create a Naive Bayes model and fit training data\n",
    "nb = NaiveBayes()\n",
    "predictor = nb.fit(training)"
   ]
  },
  {
   "cell_type": "code",
   "execution_count": 53,
   "metadata": {
    "colab": {
     "base_uri": "https://localhost:8080/"
    },
    "id": "W4H8l9NwERo3",
    "outputId": "2c111a07-bda9-4bb0-e81d-649c40a57bd2"
   },
   "outputs": [
    {
     "name": "stdout",
     "output_type": "stream",
     "text": [
      "+-----+------+--------------------+----------+------+-----+--------------------+--------------------+--------------------+--------------------+--------------------+--------------------+----------+\n",
      "|brand|gender|            colorway|priceGroup|length|label|          token_text|          hash_token|           idf_token|            features|       rawPrediction|         probability|prediction|\n",
      "+-----+------+--------------------+----------+------+-----+--------------------+--------------------+--------------------+--------------------+--------------------+--------------------+----------+\n",
      "|ASICS|   men|         Birch Birch|   150-200|    11|  2.0|      [birch, birch]|(262144,[66585],[...|(262144,[66585],[...|(262145,[66585,26...|[-174.45526778929...|[0.99998480721538...|       0.0|\n",
      "|ASICS|   men|         Black Black|   200-250|    11|  3.0|      [black, black]|(262144,[154828],...|(262144,[154828],...|(262145,[154828,2...|[-33.032389382152...|[0.94433452448477...|       0.0|\n",
      "|ASICS|   men|         Black Black|      <100|    11|  1.0|      [black, black]|(262144,[154828],...|(262144,[154828],...|(262145,[154828,2...|[-33.032389382152...|[0.94433452448477...|       0.0|\n",
      "|ASICS|   men|Black Brown Camo ...|   100-150|    22|  0.0|[black, brown, ca...|(262144,[75571,10...|(262144,[75571,10...|(262145,[75571,10...|[-139.83182377945...|[0.65737653897914...|       0.0|\n",
      "|ASICS|   men|         Black White|   200-250|    11|  3.0|      [black, white]|(262144,[75571,15...|(262144,[75571,15...|(262145,[75571,15...|[-32.208660717915...|[0.93171331175300...|       0.0|\n",
      "+-----+------+--------------------+----------+------+-----+--------------------+--------------------+--------------------+--------------------+--------------------+--------------------+----------+\n",
      "only showing top 5 rows\n",
      "\n"
     ]
    }
   ],
   "source": [
    "test_results = predictor.transform(testing)\n",
    "test_results.show(5)"
   ]
  },
  {
   "cell_type": "code",
   "execution_count": 54,
   "metadata": {
    "colab": {
     "base_uri": "https://localhost:8080/"
    },
    "id": "xHyQeKgRGWRK",
    "outputId": "302292dd-e08d-4975-ac33-04cdd5ebe2fd"
   },
   "outputs": [
    {
     "name": "stdout",
     "output_type": "stream",
     "text": [
      "Accuracy of model at predicting reviews was: 0.344662\n"
     ]
    }
   ],
   "source": [
    "from pyspark.ml.evaluation import MulticlassClassificationEvaluator\n",
    "\n",
    "acc_eval = MulticlassClassificationEvaluator()\n",
    "acc = acc_eval.evaluate(test_results)\n",
    "print(\"Accuracy of model at predicting reviews was: %f\" % acc)"
   ]
  },
  {
   "cell_type": "code",
   "execution_count": null,
   "metadata": {
    "id": "4rYUko5EGesp"
   },
   "outputs": [],
   "source": []
  }
 ],
 "metadata": {
  "colab": {
   "name": "Untitled5.ipynb",
   "provenance": []
  },
  "kernelspec": {
   "display_name": "Python 3",
   "language": "python",
   "name": "python3"
  },
  "language_info": {
   "codemirror_mode": {
    "name": "ipython",
    "version": 3
   },
   "file_extension": ".py",
   "mimetype": "text/x-python",
   "name": "python",
   "nbconvert_exporter": "python",
   "pygments_lexer": "ipython3",
   "version": "3.7.10"
  }
 },
 "nbformat": 4,
 "nbformat_minor": 1
}
